{
  "nbformat": 4,
  "nbformat_minor": 0,
  "metadata": {
    "colab": {
      "provenance": []
    },
    "kernelspec": {
      "name": "python3",
      "display_name": "Python 3"
    },
    "accelerator": "GPU"
  },
  "cells": [
    {
      "cell_type": "markdown",
      "metadata": {
        "id": "scfLT2i0MLyD"
      },
      "source": [
        "<a target=\"_blank\" href=\"https://colab.research.google.com/github/rapidsai-community/showcase/blob/main/getting_started_tutorials/rapids-pip-colab-template.ipynb\">\n",
        "  <img src=\"https://colab.research.google.com/assets/colab-badge.svg\" alt=\"Install RAPIDS into Colab\"/>\n",
        "</a>\n",
        "\n",
        "# RAPIDS cuDF is now already on your Colab instance!\n",
        "RAPIDS cuDF is preinstalled on Google Colab and instantly accelerates Pandas with zero code changes. [You can quickly get started with our tutorial notebook](https://nvda.ws/rapids-cudf). This notebook template is for users who want to utilize the full suite of the RAPIDS libraries for their workflows on Colab.  \n",
        "\n",
        "# Environment Sanity Check #\n",
        "\n",
        "Click the _Runtime_ dropdown at the top of the page, then _Change Runtime Type_ and confirm the instance type is _GPU_.\n",
        "\n",
        "You can check the output of `!nvidia-smi` to check which GPU you have.  Please uncomment the cell below if you'd like to do that.  Currently, RAPIDS runs on all available Colab GPU instances."
      ]
    },
    {
      "cell_type": "code",
      "metadata": {
        "id": "67T0090Jk2KL",
        "outputId": "d902b88c-a68b-4745-af47-afb931cccd80",
        "colab": {
          "base_uri": "https://localhost:8080/"
        }
      },
      "source": [
        "!nvidia-smi"
      ],
      "execution_count": 1,
      "outputs": [
        {
          "output_type": "stream",
          "name": "stdout",
          "text": [
            "Fri Apr 11 04:40:02 2025       \n",
            "+-----------------------------------------------------------------------------------------+\n",
            "| NVIDIA-SMI 550.54.15              Driver Version: 550.54.15      CUDA Version: 12.4     |\n",
            "|-----------------------------------------+------------------------+----------------------+\n",
            "| GPU  Name                 Persistence-M | Bus-Id          Disp.A | Volatile Uncorr. ECC |\n",
            "| Fan  Temp   Perf          Pwr:Usage/Cap |           Memory-Usage | GPU-Util  Compute M. |\n",
            "|                                         |                        |               MIG M. |\n",
            "|=========================================+========================+======================|\n",
            "|   0  Tesla T4                       Off |   00000000:00:04.0 Off |                    0 |\n",
            "| N/A   50C    P8             10W /   70W |       0MiB /  15360MiB |      0%      Default |\n",
            "|                                         |                        |                  N/A |\n",
            "+-----------------------------------------+------------------------+----------------------+\n",
            "                                                                                         \n",
            "+-----------------------------------------------------------------------------------------+\n",
            "| Processes:                                                                              |\n",
            "|  GPU   GI   CI        PID   Type   Process name                              GPU Memory |\n",
            "|        ID   ID                                                               Usage      |\n",
            "|=========================================================================================|\n",
            "|  No running processes found                                                             |\n",
            "+-----------------------------------------------------------------------------------------+\n"
          ]
        }
      ]
    },
    {
      "cell_type": "markdown",
      "metadata": {
        "id": "U_v33LnDVNo3"
      },
      "source": [
        "#Setup:\n",
        "This set up script:\n",
        "\n",
        "1. Checks to make sure that the GPU is RAPIDS compatible\n",
        "1. Pip Installs the RAPIDS' libraries, which are:\n",
        "  1. cuDF\n",
        "  1. cuML\n",
        "  1. cuGraph\n",
        "  1. cuSpatial\n",
        "  1. cuxFilter\n",
        "  1. cuCIM\n",
        "  1. xgboost\n",
        "\n",
        "# Controlling Which RAPIDS Version is Installed\n",
        "This line in the cell below, `!python rapidsai-csp-utils/colab/pip-install.py`, kicks off the RAPIDS installation script.  You can control the RAPIDS version installed by adding either `latest`, `nightlies` or the default/blank option.  Example:\n",
        "\n",
        "`!python rapidsai-csp-utils/colab/pip-install.py <option>`\n",
        "\n",
        "You can now tell the script to install:\n",
        "1. **RAPIDS + Colab Default Version**, by leaving the install script option blank (or giving an invalid option), adds the rest of the RAPIDS libraries to the RAPIDS cuDF library preinstalled on Colab.  **This is the default and recommended version.**  Example: `!python rapidsai-csp-utils/colab/pip-install.py`\n",
        "1. **Latest known working RAPIDS stable version**, by using the option `latest` upgrades all RAPIDS labraries to the latest working RAPIDS stable version.  Usually early access for future RAPIDS+Colab functionality - some functionality may not work, but can be same as the default version. Example: `!python rapidsai-csp-utils/colab/pip-install.py latest`\n",
        "1. **the current nightlies version**, by using the option, `nightlies`, installs current RAPIDS nightlies version.  For RAPIDS Developer use - **not recommended/untested**.  Example: `!python rapidsai-csp-utils/colab/pip-install.py nightlies`\n",
        "\n",
        "\n",
        "**This will complete in about 5-6 minutes**"
      ]
    },
    {
      "cell_type": "code",
      "metadata": {
        "id": "B0C8IV5TQnjN",
        "colab": {
          "base_uri": "https://localhost:8080/"
        },
        "outputId": "38f54a5e-e0ef-45b4-944f-ce5cd1ff67d0"
      },
      "source": [
        "# This get the RAPIDS-Colab install files and test check your GPU.  Run this and the next cell only.\n",
        "# Please read the output of this cell.  If your Colab Instance is not RAPIDS compatible, it will warn you and give you remediation steps.\n",
        "!git clone https://github.com/rapidsai/rapidsai-csp-utils.git\n",
        "!python rapidsai-csp-utils/colab/pip-install.py\n"
      ],
      "execution_count": 2,
      "outputs": [
        {
          "output_type": "stream",
          "name": "stdout",
          "text": [
            "Cloning into 'rapidsai-csp-utils'...\n",
            "remote: Enumerating objects: 587, done.\u001b[K\n",
            "remote: Counting objects: 100% (153/153), done.\u001b[K\n",
            "remote: Compressing objects: 100% (71/71), done.\u001b[K\n",
            "remote: Total 587 (delta 122), reused 85 (delta 82), pack-reused 434 (from 3)\u001b[K\n",
            "Receiving objects: 100% (587/587), 193.00 KiB | 1003.00 KiB/s, done.\n",
            "Resolving deltas: 100% (296/296), done.\n",
            "Installing RAPIDS remaining 25.02 libraries\n",
            "error: a value is required for '--prerelease <PRERELEASE>' but none was supplied\n",
            "  [possible values: disallow, allow, if-necessary, explicit, if-necessary-or-explicit]\n",
            "\n",
            "For more information, try '--help'.\n",
            "\n",
            "        ***********************************************************************\n",
            "        The pip install of RAPIDS is complete.\n",
            "\n",
            "        Please do not run any further installation from the conda based installation methods, as they may cause issues!\n",
            "\n",
            "        Please ensure that you're pulling from the git repo to remain updated with the latest working install scripts.\n",
            "\n",
            "        Troubleshooting:\n",
            "            - If there is an installation failure, please check back on RAPIDSAI owned templates/notebooks to see how to update your personal files.\n",
            "            - If an installation failure persists when using the latest script, please make an issue on https://github.com/rapidsai-community/rapidsai-csp-utils\n",
            "        ***********************************************************************\n",
            "        \n"
          ]
        }
      ]
    },
    {
      "cell_type": "markdown",
      "metadata": {
        "id": "pZJMJ6BulmMn"
      },
      "source": [
        "# RAPIDS is now installed on Colab.  \n",
        "You can copy your code into the cells below or use the below to validate your RAPIDS installation and version.  \n",
        "# Enjoy!"
      ]
    },
    {
      "cell_type": "code",
      "source": [
        "from cuml.ensemble import RandomForestClassifier as cuRF\n",
        "from sklearn.metrics import accuracy_score\n",
        "import cuml\n",
        "from cupy import asnumpy\n",
        "from joblib import dump, load\n",
        "import time\n",
        "\n",
        "def random_forest_cuml(x_train, x_test, y_train, y_test, n_estimators, max_depth):\n",
        "    st = time.time()\n",
        "    model = cuRF( max_depth = max_depth,\n",
        "                  n_estimators = n_estimators,\n",
        "                  random_state  = 0 )\n",
        "\n",
        "    trained_RF = model.fit ( X_train, y_train )\n",
        "\n",
        "    predictions = model.predict ( X_test )\n",
        "\n",
        "    cu_score = cuml.metrics.accuracy_score( y_test, predictions )\n",
        "    sk_score = accuracy_score( asnumpy( y_test ), asnumpy( predictions ) )\n",
        "\n",
        "    # print( \" cuml accuracy: \", cu_score )\n",
        "    # print( \" sklearn accuracy : \", sk_score )\n",
        "    diff = time.time() - st\n",
        "    return diff, sk_score"
      ],
      "metadata": {
        "id": "9GE3Jvj8d3_M"
      },
      "execution_count": 3,
      "outputs": []
    },
    {
      "cell_type": "code",
      "source": [
        "from sklearn.ensemble import RandomForestClassifier as RF\n",
        "from sklearn.metrics import accuracy_score\n",
        "\n",
        "def random_forest_sklearn(x_train, x_test, y_train, y_test, n_estimators, max_depth):\n",
        "    st = time.time()\n",
        "    model = RF( max_depth = max_depth,\n",
        "                  n_estimators = n_estimators,\n",
        "                  random_state  = 0 )\n",
        "\n",
        "    trained_RF = model.fit ( X_train, y_train )\n",
        "\n",
        "    predictions = model.predict ( X_test )\n",
        "\n",
        "    cu_score = cuml.metrics.accuracy_score( y_test, predictions )\n",
        "    sk_score = accuracy_score( y_test, predictions )\n",
        "\n",
        "    # print( \" cuml accuracy: \", cu_score )\n",
        "    # print( \" sklearn accuracy : \", sk_score )\n",
        "    diff = time.time() - st\n",
        "    return diff, sk_score"
      ],
      "metadata": {
        "id": "dcR5bg6oLq_-"
      },
      "execution_count": 4,
      "outputs": []
    },
    {
      "cell_type": "code",
      "source": [
        "from sklearn.datasets import make_classification\n",
        "from cuml.model_selection import train_test_split\n",
        "import matplotlib.pyplot as plt\n",
        "import warnings\n",
        "from tqdm import tqdm\n",
        "warnings.filterwarnings(\"ignore\")\n",
        "# synthetic dataset dimensions\n",
        "n_samples = 1000\n",
        "n_features = 10\n",
        "n_classes = 2\n",
        "\n",
        "# random forest depth and size\n",
        "n_estimators = 25\n",
        "max_depth = 10\n",
        "\n",
        "elapsed_times = {\"cuml\": [], \"sklearn\": []}\n",
        "accuracies = {\"cuml\": [], \"sklearn\": []}\n",
        "n_samples_list = []\n",
        "# for i in tqdm(range(1, 8)):\n",
        "for i in tqdm(range(1, 7)):\n",
        "    n_samples = 10 ** i\n",
        "    n_samples_list.append(n_samples)\n",
        "    # generate synthetic data [ binary classification task ]\n",
        "    X, y = make_classification ( n_classes = n_classes,\n",
        "                                n_features = n_features,\n",
        "                                n_samples = n_samples,\n",
        "                                random_state = 0 )\n",
        "\n",
        "    X_train, X_test, y_train, y_test = train_test_split( X, y, random_state = 0 )\n",
        "\n",
        "    elapsed_time_cuml, result_cuml = random_forest_cuml(X_train, X_test, y_train, y_test, n_estimators, max_depth)\n",
        "    elapsed_time_sklearn, result_sklearn = random_forest_sklearn(X_train, X_test, y_train, y_test, n_estimators, max_depth)\n",
        "    elapsed_times[\"cuml\"].append(elapsed_time_cuml)\n",
        "    elapsed_times[\"sklearn\"].append(elapsed_time_sklearn)\n",
        "    accuracies[\"cuml\"].append(result_cuml)\n",
        "    accuracies[\"sklearn\"].append(result_sklearn)\n",
        "\n",
        "plt.subplot(1, 2, 1)\n",
        "plt.plot(n_samples_list, elapsed_times[\"cuml\"], color=\"red\", label=\"cuML\")\n",
        "plt.plot(n_samples_list, elapsed_times[\"sklearn\"], color=\"blue\", label=\"sklearn\")\n",
        "plt.xlabel(\"n_samples\")\n",
        "plt.ylabel(\"elapsed time[s]\")\n",
        "plt.legend()\n",
        "plt.subplot(1, 2, 2)\n",
        "plt.plot(n_samples_list, accuracies[\"cuml\"], color=\"red\", label=\"cuML\")\n",
        "plt.plot(n_samples_list, accuracies[\"sklearn\"], color=\"blue\", label=\"sklearn\")\n",
        "plt.xlabel(\"n_samples\")\n",
        "plt.ylabel(\"Accuracy\")\n",
        "plt.legend()\n",
        "plt.subplots_adjust(wspace=0.5)\n",
        "plt.show()"
      ],
      "metadata": {
        "id": "qHGrci2GJ190",
        "outputId": "b530d3bc-8596-4b46-b1e4-e6737becb275",
        "colab": {
          "base_uri": "https://localhost:8080/",
          "height": 468
        }
      },
      "execution_count": 7,
      "outputs": [
        {
          "output_type": "stream",
          "name": "stderr",
          "text": [
            "100%|██████████| 6/6 [01:25<00:00, 14.32s/it]\n"
          ]
        },
        {
          "output_type": "display_data",
          "data": {
            "text/plain": [
              "<Figure size 640x480 with 2 Axes>"
            ],
            "image/png": "[encoded data removed]"
          },
          "metadata": {}
        }
      ]
    },
    {
      "cell_type": "code",
      "source": [],
      "metadata": {
        "id": "-Sq91vbrKyNV"
      },
      "execution_count": null,
      "outputs": []
    }
  ]
}